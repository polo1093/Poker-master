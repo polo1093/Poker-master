{
 "cells": [
  {
   "cell_type": "code",
   "execution_count": 6,
   "metadata": {},
   "outputs": [],
   "source": [
    "#!pip install -qr requirements.txt\n",
    "\n",
    "\n",
    "from tesserocr import PyTessBaseAPI, PSM, OEM"
   ]
  },
  {
   "cell_type": "markdown",
   "metadata": {},
   "source": [
    "# Test déplacement souris"
   ]
  },
  {
   "cell_type": "code",
   "execution_count": 2,
   "metadata": {},
   "outputs": [
    {
     "ename": "TypeError",
     "evalue": "__init__() missing 1 required positional argument: 'table_dict'",
     "output_type": "error",
     "traceback": [
      "\u001b[1;31m---------------------------------------------------------------------------\u001b[0m",
      "\u001b[1;31mTypeError\u001b[0m                                 Traceback (most recent call last)",
      "\u001b[1;32mc:\\Users\\polo1\\Pictures\\Cours Info\\Bot trading\\Poker-master\\Notebooks test.ipynb Cell 1'\u001b[0m in \u001b[0;36m<module>\u001b[1;34m\u001b[0m\n\u001b[0;32m      <a href='vscode-notebook-cell:/c%3A/Users/polo1/Pictures/Cours%20Info/Bot%20trading/Poker-master/Notebooks%20test.ipynb#ch0000000?line=0'>1</a>\u001b[0m \u001b[39m#from tools.mouse_mover import MouseMoverTableBased\u001b[39;00m\n\u001b[0;32m      <a href='vscode-notebook-cell:/c%3A/Users/polo1/Pictures/Cours%20Info/Bot%20trading/Poker-master/Notebooks%20test.ipynb#ch0000000?line=1'>2</a>\u001b[0m \u001b[39mfrom\u001b[39;00m \u001b[39mpoker\u001b[39;00m\u001b[39m.\u001b[39;00m\u001b[39mtools\u001b[39;00m \u001b[39mimport\u001b[39;00m mouse_mover\n\u001b[1;32m----> <a href='vscode-notebook-cell:/c%3A/Users/polo1/Pictures/Cours%20Info/Bot%20trading/Poker-master/Notebooks%20test.ipynb#ch0000000?line=2'>3</a>\u001b[0m mouse \u001b[39m=\u001b[39m mouse_mover\u001b[39m.\u001b[39;49mMouseMoverTableBased()\n",
      "\u001b[1;31mTypeError\u001b[0m: __init__() missing 1 required positional argument: 'table_dict'"
     ]
    }
   ],
   "source": [
    "#from tools.mouse_mover import MouseMoverTableBased\n",
    "from poker.tools import mouse_mover\n",
    "mouse = mouse_mover.MouseMoverTableBased()\n"
   ]
  },
  {
   "cell_type": "code",
   "execution_count": 10,
   "metadata": {},
   "outputs": [
    {
     "data": {
      "application/vnd.jupyter.widget-view+json": {
       "model_id": "56a4a03dbcdd4b0692b5dba3d586457f",
       "version_major": 2,
       "version_minor": 0
      },
      "text/plain": [
       "  0%|          | 0/10 [00:00<?, ?it/s]"
      ]
     },
     "metadata": {},
     "output_type": "display_data"
    }
   ],
   "source": [
    "from tqdm.notebook import trange, tqdm\n",
    "for i in tqdm(range(10)):\n",
    "    1"
   ]
  },
  {
   "cell_type": "code",
   "execution_count": null,
   "metadata": {},
   "outputs": [],
   "source": []
  }
 ],
 "metadata": {
  "kernelspec": {
   "display_name": "Python 3.9.13 64-bit (windows store)",
   "language": "python",
   "name": "python3"
  },
  "language_info": {
   "codemirror_mode": {
    "name": "ipython",
    "version": 3
   },
   "file_extension": ".py",
   "mimetype": "text/x-python",
   "name": "python",
   "nbconvert_exporter": "python",
   "pygments_lexer": "ipython3",
   "version": "3.9.13"
  },
  "orig_nbformat": 4,
  "vscode": {
   "interpreter": {
    "hash": "e131c7ff6c08527cc7c25e9d4020ca9d3ede4dbb982195b50c0375502c136934"
   }
  }
 },
 "nbformat": 4,
 "nbformat_minor": 2
}
